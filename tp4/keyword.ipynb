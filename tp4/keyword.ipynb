{
 "cells": [
  {
   "cell_type": "markdown",
   "metadata": {},
   "source": [
    "# Extraction de Keywords"
   ]
  },
  {
   "cell_type": "markdown",
   "metadata": {},
   "source": [
    "## Imports"
   ]
  },
  {
   "cell_type": "code",
   "execution_count": 1,
   "metadata": {},
   "outputs": [],
   "source": [
    "import os\n",
    "import yake"
   ]
  },
  {
   "cell_type": "markdown",
   "metadata": {},
   "source": [
    "## Extraire les mots clés d'un document avec Yake"
   ]
  },
  {
   "cell_type": "markdown",
   "metadata": {},
   "source": [
    "https://github.com/LIAAD/yake"
   ]
  },
  {
   "cell_type": "code",
   "execution_count": 2,
   "metadata": {
    "tags": []
   },
   "outputs": [
    {
     "data": {
      "text/plain": [
       "set()"
      ]
     },
     "execution_count": 2,
     "metadata": {},
     "output_type": "execute_result"
    }
   ],
   "source": [
    "# Création d'une liste de mots à ignorer\n",
    "ignored = set([])\n",
    "ignored"
   ]
  },
  {
   "cell_type": "code",
   "execution_count": 3,
   "metadata": {},
   "outputs": [
    {
     "data": {
      "text/plain": [
       "<yake.yake.KeywordExtractor at 0x7fee44031e20>"
      ]
     },
     "execution_count": 3,
     "metadata": {},
     "output_type": "execute_result"
    }
   ],
   "source": [
    "# Instantier l'extracteur de mots clés\n",
    "kw_extractor = yake.KeywordExtractor(lan=\"fr\", top=50)\n",
    "kw_extractor"
   ]
  },
  {
   "cell_type": "code",
   "execution_count": 4,
   "metadata": {},
   "outputs": [],
   "source": [
    "# Lister les Fichiers\n",
    "data_path = \"../data/txt/\"\n",
    "files = os.listdir(data_path)"
   ]
  },
  {
   "cell_type": "code",
   "execution_count": 5,
   "metadata": {},
   "outputs": [
    {
     "data": {
      "text/plain": [
       "2213"
      ]
     },
     "execution_count": 5,
     "metadata": {},
     "output_type": "execute_result"
    }
   ],
   "source": [
    "# Imprimer le nombre de fichiers identifiés\n",
    "len(files)"
   ]
  },
  {
   "cell_type": "code",
   "execution_count": 6,
   "metadata": {},
   "outputs": [],
   "source": [
    "# Les dix premiers fichiers\n",
    "#files[:20]"
   ]
  },
  {
   "cell_type": "code",
   "execution_count": 7,
   "metadata": {},
   "outputs": [
    {
     "data": {
      "text/plain": [
       "['Lkn_1880_Tome_RptAn_Part_1.txt',\n",
       " 'Lkn_1880_Tome_RptAn_Part_2.txt',\n",
       " 'Lkn_1880_Tome_RptAn_Part_3.txt',\n",
       " 'Lkn_1880_Tome_RptAn_Part_4.txt',\n",
       " 'Lkn_1880_Tome_RptAn_Part_5.txt']"
      ]
     },
     "execution_count": 7,
     "metadata": {},
     "output_type": "execute_result"
    }
   ],
   "source": [
    "# Enlever les fichiers qui ne commencent pas par Bxl_\n",
    "# Lister les fichiers de cette année\n",
    "txt_path = '../data/txt'\n",
    "rptAn_files = [f for f in os.listdir(txt_path) if os.path.isfile(os.path.join(txt_path, f)) and str(1880) in f and \"RptAn\" in f]\n",
    "rptAn_files"
   ]
  },
  {
   "cell_type": "code",
   "execution_count": 8,
   "metadata": {},
   "outputs": [
    {
     "data": {
      "text/plain": [
       "'Lkn_1880_Tome_RptAn_Part_1.txt'"
      ]
     },
     "execution_count": 8,
     "metadata": {},
     "output_type": "execute_result"
    }
   ],
   "source": [
    "# Choisir un fichier\n",
    "this_file = rptAn_files[0]\n",
    "this_file"
   ]
  },
  {
   "cell_type": "code",
   "execution_count": 9,
   "metadata": {},
   "outputs": [
    {
     "data": {
      "text/plain": [
       "\"\\x0cCOMMUNE DE L A E K E N .\\n\\nCOMPTE\\n\\nCOMMUNAL\\n\\nPOUR L'EXERCICE DE 1872.\\n\\nRapport\\n\\ndes sections réunies\\n\\nau Conseil\\n\\ncommunal.\\n\\nMESSIEURS,\\n\\nLes Sections réunies, auxquelles vous avez renvoyé le Compte communal de 1872 pour examen, ont, en séances des 18 et 25 juillet\\net 1 , 8 et 14 août, examiné, article par article, les recettes et dépenses ; elles m'ont chargé de vous présenter, Messieurs, les observations suivantes au compte dressé par l'ancien receveur communal,\\nM . H , Vanden Eynde.\\n1° A u par\""
      ]
     },
     "execution_count": 9,
     "metadata": {},
     "output_type": "execute_result"
    }
   ],
   "source": [
    "# Récupérer le texte du fichier\n",
    "text = open(os.path.join(data_path, this_file), 'r').read()\n",
    "text[:500]"
   ]
  },
  {
   "cell_type": "code",
   "execution_count": 10,
   "metadata": {},
   "outputs": [],
   "source": [
    "# Extraire les mots clés de ce texte\n",
    "keywords = kw_extractor.extract_keywords(text)"
   ]
  },
  {
   "cell_type": "code",
   "execution_count": 11,
   "metadata": {},
   "outputs": [
    {
     "data": {
      "text/plain": [
       "[('Conseil communal', 0.00021783429228276968),\n",
       " ('Conseil', 0.0006341129890645985),\n",
       " ('COMMUNE', 0.0009490887746978313),\n",
       " ('rue', 0.001008104616532505),\n",
       " ('Laeken', 0.0015502148103287016),\n",
       " ('somme', 0.0019508363717085355),\n",
       " ('Collège', 0.002233836800884695),\n",
       " ('COMMUNAL', 0.0023409386215482403),\n",
       " ('francs', 0.00264512742064044),\n",
       " ('COMPTE', 0.002883495142567352),\n",
       " ('art', 0.002930820602089507),\n",
       " ('MESSIEURS', 0.003205520101564118),\n",
       " ('mètres', 0.003684491057572853),\n",
       " ('sections', 0.004213308204490445),\n",
       " ('COMPTE COMMUNAL', 0.00484544449768505),\n",
       " ('Députation permanente', 0.004915681696120833),\n",
       " ('lieu', 0.005281571887520553),\n",
       " ('commune de Laeken', 0.00531178598904023),\n",
       " ('rues', 0.005391168166673831),\n",
       " ('sommes', 0.005563496319316935),\n",
       " ('travaux', 0.005792640340773574),\n",
       " ('chemin', 0.00603841062949822),\n",
       " ('Société Immobilière', 0.006073977911686317),\n",
       " (\"d'une\", 0.006200733632326171),\n",
       " ('Van', 0.006367251903818524),\n",
       " ('BRUXELLES', 0.006716050527700125),\n",
       " ('service', 0.0068548296843133965),\n",
       " ('faire', 0.006862847027849783),\n",
       " (\"D'un\", 0.0068836298428294265),\n",
       " ('Van den Eynde', 0.006995033992874151),\n",
       " ('communes', 0.007201908937412956),\n",
       " ('rue de Molenbeek', 0.007212393289315828),\n",
       " (\"Conseil communal s'est\", 0.007382259413155179),\n",
       " ('partie', 0.0076009719180603836),\n",
       " ('recettes', 0.007690946495020246),\n",
       " ('avons', 0.007995568629182876),\n",
       " ('société', 0.008255778670704697),\n",
       " (\"qu'il\", 0.008675834460286302),\n",
       " ('publique', 0.00874494710178522),\n",
       " (\"l'art\", 0.008856285863751746),\n",
       " ('nombre', 0.008968475279896014),\n",
       " ('Van den', 0.0090881162041118),\n",
       " ('bureau', 0.009137203526417328),\n",
       " ('Conseil provincial', 0.00980237899219962),\n",
       " ('Députation', 0.009988946157554987),\n",
       " ('Molenbeek', 0.010037605383962034),\n",
       " ('dernier', 0.010161084283101352),\n",
       " ('rue Creuse', 0.010298451747953043),\n",
       " ('Reine', 0.01057193911248233),\n",
       " ('largeur', 0.01082337230830796)]"
      ]
     },
     "execution_count": 11,
     "metadata": {},
     "output_type": "execute_result"
    }
   ],
   "source": [
    "keywords"
   ]
  },
  {
   "cell_type": "code",
   "execution_count": 12,
   "metadata": {},
   "outputs": [
    {
     "data": {
      "text/plain": [
       "['Conseil communal',\n",
       " 'COMPTE COMMUNAL',\n",
       " 'Députation permanente',\n",
       " 'Société Immobilière',\n",
       " 'Van den',\n",
       " 'Conseil provincial',\n",
       " 'rue Creuse']"
      ]
     },
     "execution_count": 12,
     "metadata": {},
     "output_type": "execute_result"
    }
   ],
   "source": [
    "# Ne garder que les bigrammes\n",
    "kept = []\n",
    "for kw, score in keywords:\n",
    "    words = kw.split()\n",
    "    if len(words) == 2 and kw.lower() not in ignored:\n",
    "        kept.append(kw)\n",
    "kept"
   ]
  },
  {
   "cell_type": "markdown",
   "metadata": {},
   "source": [
    "## Faire la même opération sur tous les documents"
   ]
  },
  {
   "cell_type": "code",
   "execution_count": 14,
   "metadata": {},
   "outputs": [
    {
     "name": "stdout",
     "output_type": "stream",
     "text": [
      "Lkn_1880_Tome_RptAn_Part_1.txt mentions these keywords: Conseil communal, COMPTE COMMUNAL, Députation permanente, Société Immobilière, Van den, Conseil provincial, rue Creuse...\n",
      "Lkn_1880_Tome_RptAn_Part_2.txt mentions these keywords: van het, van den, aan den, der Gemeente, straat van, van Laeken, door het, Maatschappij van, voor het, aan het, gemeente Laeken, door den, van eene...\n",
      "Lkn_1880_Tome_RptAn_Part_3.txt mentions these keywords: van het, Conseil communal, van Laeken, van den, DÉPENSES EXTRAORDINAIRES, maison communale, terrain dans, Part dans...\n",
      "Lkn_1880_Tome_RptAn_Part_4.txt mentions these keywords: CONSEIL COMMUNAL, Palais rue, Maison communale, Laeken rue, Arrêté royal, Heysel rue, Société Immobilière, d'une rue, rue Léopold...\n",
      "Lkn_1880_Tome_RptAn_Part_5.txt mentions these keywords: Conseil communal, rue Ribeaucourt, TRAVAUX PUBLICS, l'Administration communale, voie publique, rue Marie-Christine, d'autres communes, d'une somme...\n"
     ]
    }
   ],
   "source": [
    "for f in sorted(rptAn_files)[:10]:\n",
    "    text = open(os.path.join(data_path, f), 'r').read()\n",
    "    keywords = kw_extractor.extract_keywords(text)\n",
    "    kept = []\n",
    "    for kw, score in keywords:\n",
    "        words = kw.split()\n",
    "        if len(words) == 2 and kw.lower() not in ignored:\n",
    "            kept.append(kw)\n",
    "    print(f\"{f} mentions these keywords: {', '.join(kept)}...\")"
   ]
  },
  {
   "cell_type": "code",
   "execution_count": null,
   "metadata": {},
   "outputs": [],
   "source": []
  },
  {
   "cell_type": "code",
   "execution_count": null,
   "metadata": {},
   "outputs": [],
   "source": []
  },
  {
   "cell_type": "code",
   "execution_count": null,
   "metadata": {},
   "outputs": [],
   "source": []
  },
  {
   "cell_type": "code",
   "execution_count": null,
   "metadata": {},
   "outputs": [],
   "source": []
  }
 ],
 "metadata": {
  "kernelspec": {
   "display_name": "Python 3 (ipykernel)",
   "language": "python",
   "name": "python3"
  },
  "language_info": {
   "codemirror_mode": {
    "name": "ipython",
    "version": 3
   },
   "file_extension": ".py",
   "mimetype": "text/x-python",
   "name": "python",
   "nbconvert_exporter": "python",
   "pygments_lexer": "ipython3",
   "version": "3.9.7"
  }
 },
 "nbformat": 4,
 "nbformat_minor": 4
}
