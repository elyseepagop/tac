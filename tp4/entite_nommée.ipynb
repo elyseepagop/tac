{
 "cells": [
  {
   "cell_type": "markdown",
   "metadata": {},
   "source": [
    "# Reconnaissance d'entités nommées avec SpaCy"
   ]
  },
  {
   "cell_type": "markdown",
   "metadata": {},
   "source": [
    "La documentation est accessible ici: https://spacy.io/api"
   ]
  },
  {
   "cell_type": "markdown",
   "metadata": {},
   "source": [
    "## Imports"
   ]
  },
  {
   "cell_type": "code",
   "execution_count": 2,
   "metadata": {},
   "outputs": [],
   "source": [
    "from collections import defaultdict\n",
    "import sys\n",
    "import os\n",
    "import spacy\n",
    "from spacy.lang.fr.examples import sentences"
   ]
  },
  {
   "cell_type": "code",
   "execution_count": 3,
   "metadata": {},
   "outputs": [],
   "source": [
    "nlp = spacy.load('fr_core_news_md')"
   ]
  },
  {
   "cell_type": "markdown",
   "metadata": {},
   "source": [
    "## Exemple sur un corpus de test fourni par SpaCy"
   ]
  },
  {
   "cell_type": "code",
   "execution_count": 4,
   "metadata": {},
   "outputs": [
    {
     "data": {
      "text/plain": [
       "['Apple cherche à acheter une start-up anglaise pour 1 milliard de dollars',\n",
       " \"Les voitures autonomes déplacent la responsabilité de l'assurance vers les constructeurs\",\n",
       " \"San Francisco envisage d'interdire les robots coursiers sur les trottoirs\",\n",
       " 'Londres est une grande ville du Royaume-Uni',\n",
       " 'L’Italie choisit ArcelorMittal pour reprendre la plus grande aciérie d’Europe',\n",
       " \"Apple lance HomePod parce qu'il se sent menacé par l'Echo d'Amazon\",\n",
       " \"La France ne devrait pas manquer d'électricité cet été, même en cas de canicule\",\n",
       " 'Nouvelles attaques de Trump contre le maire de Londres',\n",
       " 'Où es-tu ?',\n",
       " 'Qui est le président de la France ?',\n",
       " 'Où est la capitale des États-Unis ?',\n",
       " 'Quand est né Barack Obama ?']"
      ]
     },
     "execution_count": 4,
     "metadata": {},
     "output_type": "execute_result"
    }
   ],
   "source": [
    "# Imprimer le corpus de Spacy\n",
    "sentences"
   ]
  },
  {
   "cell_type": "code",
   "execution_count": 5,
   "metadata": {},
   "outputs": [
    {
     "data": {
      "text/plain": [
       "'Apple cherche à acheter une start-up anglaise pour 1 milliard de dollars'"
      ]
     },
     "execution_count": 5,
     "metadata": {},
     "output_type": "execute_result"
    }
   ],
   "source": [
    "# Isoler la première phrase\n",
    "sent = sentences[0]\n",
    "sent"
   ]
  },
  {
   "cell_type": "code",
   "execution_count": 6,
   "metadata": {},
   "outputs": [],
   "source": [
    "# Traiter la phrase avec Spacy\n",
    "doc = nlp(sent)"
   ]
  },
  {
   "cell_type": "code",
   "execution_count": 7,
   "metadata": {},
   "outputs": [
    {
     "data": {
      "text/plain": [
       "spacy.tokens.doc.Doc"
      ]
     },
     "execution_count": 7,
     "metadata": {},
     "output_type": "execute_result"
    }
   ],
   "source": [
    "type(doc)"
   ]
  },
  {
   "cell_type": "code",
   "execution_count": 8,
   "metadata": {},
   "outputs": [
    {
     "data": {
      "text/plain": [
       "'Apple cherche à acheter une start-up anglaise pour 1 milliard de dollars'"
      ]
     },
     "execution_count": 8,
     "metadata": {},
     "output_type": "execute_result"
    }
   ],
   "source": [
    "doc.text"
   ]
  },
  {
   "cell_type": "code",
   "execution_count": 9,
   "metadata": {},
   "outputs": [
    {
     "data": {
      "text/plain": [
       "{'text': 'Apple cherche à acheter une start-up anglaise pour 1 milliard de dollars',\n",
       " 'ents': [{'start': 0, 'end': 5, 'label': 'ORG'}],\n",
       " 'sents': [{'start': 0, 'end': 72}],\n",
       " 'tokens': [{'id': 0,\n",
       "   'start': 0,\n",
       "   'end': 5,\n",
       "   'tag': 'PROPN',\n",
       "   'pos': 'PROPN',\n",
       "   'morph': '',\n",
       "   'lemma': 'Apple',\n",
       "   'dep': 'nsubj',\n",
       "   'head': 1},\n",
       "  {'id': 1,\n",
       "   'start': 6,\n",
       "   'end': 13,\n",
       "   'tag': 'VERB',\n",
       "   'pos': 'VERB',\n",
       "   'morph': 'Mood=Ind|Number=Sing|Person=3|Tense=Pres|VerbForm=Fin',\n",
       "   'lemma': 'cherche',\n",
       "   'dep': 'ROOT',\n",
       "   'head': 1},\n",
       "  {'id': 2,\n",
       "   'start': 14,\n",
       "   'end': 15,\n",
       "   'tag': 'ADP',\n",
       "   'pos': 'ADP',\n",
       "   'morph': '',\n",
       "   'lemma': 'à',\n",
       "   'dep': 'mark',\n",
       "   'head': 3},\n",
       "  {'id': 3,\n",
       "   'start': 16,\n",
       "   'end': 23,\n",
       "   'tag': 'VERB',\n",
       "   'pos': 'VERB',\n",
       "   'morph': 'VerbForm=Inf',\n",
       "   'lemma': 'acheter',\n",
       "   'dep': 'xcomp',\n",
       "   'head': 1},\n",
       "  {'id': 4,\n",
       "   'start': 24,\n",
       "   'end': 27,\n",
       "   'tag': 'DET',\n",
       "   'pos': 'DET',\n",
       "   'morph': 'Definite=Ind|Gender=Fem|Number=Sing|PronType=Art',\n",
       "   'lemma': 'un',\n",
       "   'dep': 'det',\n",
       "   'head': 5},\n",
       "  {'id': 5,\n",
       "   'start': 28,\n",
       "   'end': 33,\n",
       "   'tag': 'NOUN',\n",
       "   'pos': 'NOUN',\n",
       "   'morph': 'Gender=Fem|Number=Sing',\n",
       "   'lemma': 'start',\n",
       "   'dep': 'obj',\n",
       "   'head': 3},\n",
       "  {'id': 6,\n",
       "   'start': 33,\n",
       "   'end': 34,\n",
       "   'tag': 'X',\n",
       "   'pos': 'X',\n",
       "   'morph': '',\n",
       "   'lemma': '-',\n",
       "   'dep': 'obj',\n",
       "   'head': 3},\n",
       "  {'id': 7,\n",
       "   'start': 34,\n",
       "   'end': 36,\n",
       "   'tag': 'X',\n",
       "   'pos': 'X',\n",
       "   'morph': '',\n",
       "   'lemma': 'up',\n",
       "   'dep': 'obj',\n",
       "   'head': 3},\n",
       "  {'id': 8,\n",
       "   'start': 37,\n",
       "   'end': 45,\n",
       "   'tag': 'ADJ',\n",
       "   'pos': 'ADJ',\n",
       "   'morph': 'Gender=Fem|Number=Sing',\n",
       "   'lemma': 'anglais',\n",
       "   'dep': 'amod',\n",
       "   'head': 7},\n",
       "  {'id': 9,\n",
       "   'start': 46,\n",
       "   'end': 50,\n",
       "   'tag': 'ADP',\n",
       "   'pos': 'ADP',\n",
       "   'morph': '',\n",
       "   'lemma': 'pour',\n",
       "   'dep': 'case',\n",
       "   'head': 11},\n",
       "  {'id': 10,\n",
       "   'start': 51,\n",
       "   'end': 52,\n",
       "   'tag': 'NUM',\n",
       "   'pos': 'NUM',\n",
       "   'morph': 'NumType=Card',\n",
       "   'lemma': '1',\n",
       "   'dep': 'nummod',\n",
       "   'head': 11},\n",
       "  {'id': 11,\n",
       "   'start': 53,\n",
       "   'end': 61,\n",
       "   'tag': 'NOUN',\n",
       "   'pos': 'NOUN',\n",
       "   'morph': 'Gender=Masc|NumType=Card|Number=Sing',\n",
       "   'lemma': 'milliard',\n",
       "   'dep': 'obl:arg',\n",
       "   'head': 3},\n",
       "  {'id': 12,\n",
       "   'start': 62,\n",
       "   'end': 64,\n",
       "   'tag': 'ADP',\n",
       "   'pos': 'ADP',\n",
       "   'morph': '',\n",
       "   'lemma': 'de',\n",
       "   'dep': 'case',\n",
       "   'head': 13},\n",
       "  {'id': 13,\n",
       "   'start': 65,\n",
       "   'end': 72,\n",
       "   'tag': 'NOUN',\n",
       "   'pos': 'NOUN',\n",
       "   'morph': 'Gender=Masc|Number=Plur',\n",
       "   'lemma': 'dollar',\n",
       "   'dep': 'nmod',\n",
       "   'head': 11}]}"
      ]
     },
     "execution_count": 9,
     "metadata": {},
     "output_type": "execute_result"
    }
   ],
   "source": [
    "doc.to_json()"
   ]
  },
  {
   "cell_type": "code",
   "execution_count": 10,
   "metadata": {},
   "outputs": [
    {
     "name": "stdout",
     "output_type": "stream",
     "text": [
      "'Apple cherche à acheter une start-up anglaise pour 1 milliard de dollars' contient les entités suivantes : Apple (ORG)\n",
      "'Les voitures autonomes déplacent la responsabilité de l'assurance vers les constructeurs' ne contient aucune entité\n",
      "'San Francisco envisage d'interdire les robots coursiers sur les trottoirs' contient les entités suivantes : San Francisco (LOC)\n",
      "'Londres est une grande ville du Royaume-Uni' contient les entités suivantes : Londres (LOC), Royaume-Uni (LOC)\n",
      "'L’Italie choisit ArcelorMittal pour reprendre la plus grande aciérie d’Europe' contient les entités suivantes : Italie (LOC), ArcelorMittal (ORG), Europe (LOC)\n",
      "'Apple lance HomePod parce qu'il se sent menacé par l'Echo d'Amazon' contient les entités suivantes : Apple (ORG), HomePod (ORG), Echo (ORG), Amazon (ORG)\n",
      "'La France ne devrait pas manquer d'électricité cet été, même en cas de canicule' contient les entités suivantes : La France (LOC)\n",
      "'Nouvelles attaques de Trump contre le maire de Londres' contient les entités suivantes : Trump (PER), Londres (LOC)\n",
      "'Où es-tu ?' ne contient aucune entité\n",
      "'Qui est le président de la France ?' contient les entités suivantes : la France (LOC)\n",
      "'Où est la capitale des États-Unis ?' contient les entités suivantes : États-Unis (LOC)\n",
      "'Quand est né Barack Obama ?' contient les entités suivantes : Barack Obama (PER)\n"
     ]
    }
   ],
   "source": [
    "# Appliquer le test sur toutes les phrases\n",
    "for sent in sentences:\n",
    "    doc = nlp(sent)\n",
    "    entities = []\n",
    "    for ent in doc.ents:\n",
    "        entities.append(f\"{ent.text} ({ent.label_})\")\n",
    "    if entities:\n",
    "        print(f\"'{doc.text}' contient les entités suivantes : {', '.join(entities)}\")\n",
    "    else:\n",
    "        print(f\"'{doc.text}' ne contient aucune entité\")"
   ]
  },
  {
   "cell_type": "markdown",
   "metadata": {},
   "source": [
    "## Appliquer la reconnaissance d'entités nommées sur notre corpus"
   ]
  },
  {
   "cell_type": "code",
   "execution_count": 16,
   "metadata": {
    "tags": []
   },
   "outputs": [
    {
     "data": {
      "text/plain": [
       "['Lkn_1880_Tome_RptAn_Part_1.txt',\n",
       " 'Lkn_1880_Tome_RptAn_Part_2.txt',\n",
       " 'Lkn_1880_Tome_RptAn_Part_3.txt',\n",
       " 'Lkn_1880_Tome_RptAn_Part_4.txt',\n",
       " 'Lkn_1880_Tome_RptAn_Part_5.txt']"
      ]
     },
     "execution_count": 16,
     "metadata": {},
     "output_type": "execute_result"
    }
   ],
   "source": [
    "# Charger le texte\n",
    "n=200000\n",
    "year=1880\n",
    "# Lister les fichiers de cette année\n",
    "data_path = '../data'\n",
    "txt_path = '../data/txt'\n",
    "txts = [f for f in os.listdir(txt_path) if os.path.isfile(os.path.join(txt_path, f)) and str(year) in f and \"RptAn\" in f]\n",
    "txts"
   ]
  },
  {
   "cell_type": "code",
   "execution_count": 17,
   "metadata": {},
   "outputs": [],
   "source": [
    "# Stocker le contenu de ces fichiers dans une liste\n",
    "content_list = []\n",
    "for txt in txts:\n",
    "    with open(os.path.join(txt_path, txt), 'r') as f:\n",
    "        content_list.append(f.read())"
   ]
  },
  {
   "cell_type": "code",
   "execution_count": 18,
   "metadata": {},
   "outputs": [],
   "source": [
    "# Ecrire tout le contenu dans un fichier temporaire\n",
    "temp_path = '../data/tmp'\n",
    "if not os.path.exists(temp_path):\n",
    "    os.mkdir(temp_path)\n",
    "with open(os.path.join(temp_path, f'{year}.txt'), 'w') as f:\n",
    "    f.write(' '.join(content_list))"
   ]
  },
  {
   "cell_type": "code",
   "execution_count": 19,
   "metadata": {},
   "outputs": [],
   "source": [
    "with open(os.path.join(temp_path, f'{year}.txt'), 'r') as f:\n",
    "    text = f.read()[:n]\n"
   ]
  },
  {
   "cell_type": "code",
   "execution_count": 20,
   "metadata": {},
   "outputs": [
    {
     "name": "stdout",
     "output_type": "stream",
     "text": [
      "CPU times: user 27.4 s, sys: 313 ms, total: 27.8 s\n",
      "Wall time: 27.8 s\n"
     ]
    }
   ],
   "source": [
    "%%time\n",
    "# Traiter le texte\n",
    "\n",
    "doc = nlp(text)"
   ]
  },
  {
   "cell_type": "code",
   "execution_count": 21,
   "metadata": {},
   "outputs": [],
   "source": [
    "# Compter les entités\n",
    "people = defaultdict(int)\n",
    "organisation = defaultdict(int)\n",
    "location = defaultdict(int)\n",
    "for ent in doc.ents:\n",
    "    if ent.label_ == \"PER\" and len(ent.text) > 3:\n",
    "        people[ent.text] += 1\n",
    "    if ent.label_ == \"ORG\" and len(ent.text) > 3:\n",
    "        organisation[ent.text] += 1\n",
    "    if ent.label_ == \"LOC\" and len(ent.text) > 3:\n",
    "        location[ent.text] += 1"
   ]
  },
  {
   "cell_type": "code",
   "execution_count": 22,
   "metadata": {},
   "outputs": [
    {
     "name": "stdout",
     "output_type": "stream",
     "text": [
      "Personnes\n",
      "Messieurs apparait 38 fois dans le corpus\n",
      "Bourgmestre apparait 6 fois dans le corpus\n",
      "q u i apparait 6 fois dans le corpus\n",
      "q u e apparait 5 fois dans le corpus\n",
      "Echevins apparait 5 fois dans le corpus\n",
      "Halage apparait 5 fois dans le corpus\n",
      "Le Président apparait 4 fois dans le corpus\n",
      "Reine apparait 4 fois dans le corpus\n",
      "Van den Eynde apparait 4 fois dans le corpus\n",
      "p r é apparait 4 fois dans le corpus\n",
      "u V u apparait 4 fois dans le corpus\n",
      "Monsieur le Ministre apparait 4 fois dans le corpus\n",
      "Vanden Eynde apparait 3 fois dans le corpus\n",
      "Soit apparait 3 fois dans le corpus\n",
      "Recettes apparait 3 fois dans le corpus\n",
      "Président apparait 3 fois dans le corpus\n",
      "Fransman apparait 3 fois dans le corpus\n",
      "Dujardin apparait 3 fois dans le corpus\n",
      "Masculin apparait 3 fois dans le corpus\n",
      "Considérant apparait 3 fois dans le corpus\n",
      "Henri apparait 3 fois dans le corpus\n",
      "Jean-Baptiste apparait 3 fois dans le corpus\n",
      "Besme apparait 3 fois dans le corpus\n",
      "vervangen apparait 3 fois dans le corpus\n",
      "Brüssel apparait 3 fois dans le corpus\n",
      "som van apparait 3 fois dans le corpus\n",
      "Van den Kerckhove apparait 2 fois dans le corpus\n",
      "Emile Hellebaut apparait 2 fois dans le corpus\n",
      "Échevin Fransman apparait 2 fois dans le corpus\n",
      "Souverain apparait 2 fois dans le corpus\n",
      "i c i apparait 2 fois dans le corpus\n",
      "Leslgarens apparait 2 fois dans le corpus\n",
      "Grevelers apparait 2 fois dans le corpus\n",
      "Échevin apparait 2 fois dans le corpus\n",
      "NotreDame apparait 2 fois dans le corpus\n",
      "Féminin apparait 2 fois dans le corpus\n",
      "d e r apparait 2 fois dans le corpus\n",
      "Défaut apparait 2 fois dans le corpus\n",
      "Abandon apparait 2 fois dans le corpus\n",
      "t u r apparait 2 fois dans le corpus\n",
      "Alfred De Lange apparait 2 fois dans le corpus\n",
      "î t r e apparait 2 fois dans le corpus\n",
      "Van Moer apparait 2 fois dans le corpus\n",
      "Slagmulder apparait 2 fois dans le corpus\n",
      "Mahieu apparait 2 fois dans le corpus\n",
      "Bourgeois apparait 2 fois dans le corpus\n",
      "Swaaf apparait 2 fois dans le corpus\n",
      "Sicard apparait 2 fois dans le corpus\n",
      "Van Schaftinghen apparait 2 fois dans le corpus\n",
      "Le Secrétaire apparait 2 fois dans le corpus\n",
      "Organisations\n",
      "Conseil apparait 47 fois dans le corpus\n",
      "Collège apparait 33 fois dans le corpus\n",
      "Conseil communal apparait 31 fois dans le corpus\n",
      "Total apparait 14 fois dans le corpus\n",
      "Société Immobilière apparait 10 fois dans le corpus\n",
      "Administration apparait 7 fois dans le corpus\n",
      "Comité apparait 7 fois dans le corpus\n",
      "Société apparait 7 fois dans le corpus\n",
      "Collège échevinal apparait 5 fois dans le corpus\n",
      "Administration communale apparait 5 fois dans le corpus\n",
      "Section apparait 4 fois dans le corpus\n",
      "Ministre apparait 3 fois dans le corpus\n",
      "b\n",
      "\n",
      "\f",
      "Art apparait 2 fois dans le corpus\n",
      "Conseil communal de apparait 2 fois dans le corpus\n",
      "Comité\n",
      "de salubrité publique apparait 2 fois dans le corpus\n",
      "Conseil de fabrique de l'église apparait 2 fois dans le corpus\n",
      "Chambres législatives apparait 2 fois dans le corpus\n",
      "Conseil provincial apparait 2 fois dans le corpus\n",
      "Conseil de milice apparait 2 fois dans le corpus\n",
      "Compagnie des omnibus apparait 2 fois dans le corpus\n",
      "Baldewyns apparait 2 fois dans le corpus\n",
      "Administration précédente apparait 2 fois dans le corpus\n",
      "Ministre de l'Intérieur apparait 2 fois dans le corpus\n",
      "Autorité communale apparait 2 fois dans le corpus\n",
      "Heine apparait 2 fois dans le corpus\n",
      "Cercle des Philanthropes apparait 2 fois dans le corpus\n",
      "Comité de salubrité apparait 2 fois dans le corpus\n",
      "Taxis apparait 2 fois dans le corpus\n",
      "den Gemeenteraad apparait 2 fois dans le corpus\n",
      "Compte communal de 1872 apparait 1 fois dans le corpus\n",
      "Jette-SaintPierre apparait 1 fois dans le corpus\n",
      "Crédit apparait 1 fois dans le corpus\n",
      "Union et Fraternité apparait 1 fois dans le corpus\n",
      "Administration\n",
      "du gaz la somme defr apparait 1 fois dans le corpus\n",
      "Compte des chemins apparait 1 fois dans le corpus\n",
      "Dépenses apparait 1 fois dans le corpus\n",
      "SUCC apparait 1 fois dans le corpus\n",
      "Organe des habitants de la résidence royale apparait 1 fois dans le corpus\n",
      "Puissent apparait 1 fois dans le corpus\n",
      "Conseil communal pour la Reine apparait 1 fois dans le corpus\n",
      "Commission des hospices civils apparait 1 fois dans le corpus\n",
      "Bureau de bienfaisance et du apparait 1 fois dans le corpus\n",
      "Conseil communal de Laeken apparait 1 fois dans le corpus\n",
      "Administration communale d'Ixelles apparait 1 fois dans le corpus\n",
      "Administration centrale apparait 1 fois dans le corpus\n",
      "P. Droits politiques et autres apparait 1 fois dans le corpus\n",
      "Economat apparait 1 fois dans le corpus\n",
      "Service d'incendie apparait 1 fois dans le corpus\n",
      "do d i x heures apparait 1 fois dans le corpus\n",
      "Conseil communal du H apparait 1 fois dans le corpus\n",
      "Locations\n",
      "Laeken apparait 66 fois dans le corpus\n",
      "Bruxelles apparait 26 fois dans le corpus\n",
      "Molenbeek apparait 22 fois dans le corpus\n",
      "Anvers apparait 13 fois dans le corpus\n",
      "Sections apparait 12 fois dans le corpus\n",
      "État apparait 12 fois dans le corpus\n",
      "avenue de la Reine apparait 9 fois dans le corpus\n",
      "rue des Palais apparait 8 fois dans le corpus\n",
      "Province apparait 7 fois dans le corpus\n",
      "Gouvernement apparait 7 fois dans le corpus\n",
      "Etat apparait 6 fois dans le corpus\n",
      "Senne apparait 6 fois dans le corpus\n",
      "Totaux apparait 6 fois dans le corpus\n",
      "Molenbeek-Saint-Jean apparait 6 fois dans le corpus\n",
      "Maison-Rouge apparait 6 fois dans le corpus\n",
      "Gemeente apparait 6 fois dans le corpus\n",
      "Schaerbeek apparait 5 fois dans le corpus\n",
      "Collège des Bourgmestre apparait 5 fois dans le corpus\n",
      "Wautier apparait 5 fois dans le corpus\n",
      "rue M apparait 5 fois dans le corpus\n",
      "Endvogelweg apparait 5 fois dans le corpus\n",
      "defr apparait 4 fois dans le corpus\n",
      "Différence apparait 4 fois dans le corpus\n",
      "Brabant apparait 4 fois dans le corpus\n",
      "Heysel apparait 4 fois dans le corpus\n",
      "Deken apparait 4 fois dans le corpus\n",
      "rue de la Senne apparait 4 fois dans le corpus\n",
      "Avenue de la Reine apparait 4 fois dans le corpus\n",
      "Pantensweg apparait 4 fois dans le corpus\n",
      "Déficit apparait 3 fois dans le corpus\n",
      "Notre-Dame apparait 3 fois dans le corpus\n",
      "Belgique apparait 3 fois dans le corpus\n",
      "Limbourg apparait 3 fois dans le corpus\n",
      "Lestgarens apparait 3 fois dans le corpus\n",
      "Mons apparait 3 fois dans le corpus\n",
      "Canal apparait 3 fois dans le corpus\n",
      "Creuse apparait 3 fois dans le corpus\n",
      "Sennette apparait 3 fois dans le corpus\n",
      "Pannenhuis apparait 3 fois dans le corpus\n",
      "Nederleest apparait 2 fois dans le corpus\n",
      "Sommes apparait 2 fois dans le corpus\n",
      "Excédant apparait 2 fois dans le corpus\n",
      "Souverains apparait 2 fois dans le corpus\n",
      "Perse apparait 2 fois dans le corpus\n",
      "Belges apparait 2 fois dans le corpus\n",
      "Jette-Saint-Pierre apparait 2 fois dans le corpus\n",
      "Enfants apparait 2 fois dans le corpus\n",
      "province de Brabant apparait 2 fois dans le corpus\n",
      "Flandre apparait 2 fois dans le corpus\n",
      "Laekcn apparait 2 fois dans le corpus\n"
     ]
    }
   ],
   "source": [
    "# Trier et imprimer\n",
    "\n",
    "sorted_people = sorted(people.items(), key=lambda kv: kv[1], reverse=True)\n",
    "sorted_organisation = sorted(organisation.items(), key=lambda kv: kv[1], reverse=True)\n",
    "sorted_location = sorted(location.items(), key=lambda kv: kv[1], reverse=True)\n",
    "\n",
    "print(\"Personnes\")\n",
    "for person, freq in sorted_people[:50]:\n",
    "    print(f\"{person} apparait {freq} fois dans le corpus\")\n",
    "print(\"Organisations\")\n",
    "for org, freq in sorted_organisation[:50]:\n",
    "    print(f\"{org} apparait {freq} fois dans le corpus\")\n",
    "print(\"Locations\")\n",
    "for loc, freq in sorted_location[:50]:\n",
    "    print(f\"{loc} apparait {freq} fois dans le corpus\")"
   ]
  },
  {
   "cell_type": "code",
   "execution_count": null,
   "metadata": {},
   "outputs": [],
   "source": []
  },
  {
   "cell_type": "code",
   "execution_count": null,
   "metadata": {},
   "outputs": [],
   "source": []
  }
 ],
 "metadata": {
  "kernelspec": {
   "display_name": "Python 3 (ipykernel)",
   "language": "python",
   "name": "python3"
  },
  "language_info": {
   "codemirror_mode": {
    "name": "ipython",
    "version": 3
   },
   "file_extension": ".py",
   "mimetype": "text/x-python",
   "name": "python",
   "nbconvert_exporter": "python",
   "pygments_lexer": "ipython3",
   "version": "3.9.7"
  }
 },
 "nbformat": 4,
 "nbformat_minor": 4
}
