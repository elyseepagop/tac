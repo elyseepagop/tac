{
 "cells": [
  {
   "cell_type": "markdown",
   "metadata": {},
   "source": [
    "# Sentiment analysis avec Textblob-FR"
   ]
  },
  {
   "cell_type": "markdown",
   "metadata": {},
   "source": [
    "Documentation: https://textblob.readthedocs.io/en/dev/"
   ]
  },
  {
   "cell_type": "markdown",
   "metadata": {},
   "source": [
    "## Imports"
   ]
  },
  {
   "cell_type": "code",
   "execution_count": 1,
   "metadata": {},
   "outputs": [],
   "source": [
    "import sys\n",
    "from textblob import Blobber\n",
    "from textblob_fr import PatternTagger, PatternAnalyzer"
   ]
  },
  {
   "cell_type": "markdown",
   "metadata": {},
   "source": [
    "## Fonction"
   ]
  },
  {
   "cell_type": "code",
   "execution_count": 2,
   "metadata": {},
   "outputs": [],
   "source": [
    "tb = Blobber(pos_tagger=PatternTagger(), analyzer=PatternAnalyzer())\n",
    "\n",
    "def get_sentiment(input_text):\n",
    "    blob = tb(input_text)\n",
    "    polarity, subjectivity = blob.sentiment\n",
    "    polarity_perc = f\"{100*abs(polarity):.0f}\"\n",
    "    subjectivity_perc = f\"{100*subjectivity:.0f}\"\n",
    "    if polarity > 0:\n",
    "        polarity_str = f\"{polarity_perc}% positive\"\n",
    "    elif polarity < 0:\n",
    "        polarity_str = f\"{polarity_perc}% negative\"\n",
    "    else:\n",
    "        polarity_str = \"neutral\"\n",
    "    if subjectivity > 0:\n",
    "        subjectivity_str = f\"{subjectivity}% subjective\"\n",
    "    else:\n",
    "        subjectivity_str = \"perfectly objective\"\n",
    "    print(f\"This text is {polarity_str} and {subjectivity_str}.\")"
   ]
  },
  {
   "cell_type": "markdown",
   "metadata": {},
   "source": [
    "## Analyser le sentiment d'une phrase"
   ]
  },
  {
   "cell_type": "code",
   "execution_count": 3,
   "metadata": {
    "tags": []
   },
   "outputs": [
    {
     "name": "stdout",
     "output_type": "stream",
     "text": [
      "This text is 16% positive and 0.15000000000000002% subjective.\n"
     ]
    }
   ],
   "source": [
    "get_sentiment(\"A dix heures, un concours entre les parties du jeu de grosse balle de la ville et de ses faubourgs, sera ouvert sur la place du jeu de balle, érigée sur le terrain de rancien établissement du Renard.\")"
   ]
  },
  {
   "cell_type": "code",
   "execution_count": 5,
   "metadata": {
    "tags": []
   },
   "outputs": [
    {
     "name": "stdout",
     "output_type": "stream",
     "text": [
      "This text is 6% negative and 0.05% subjective.\n"
     ]
    }
   ],
   "source": [
    "get_sentiment(\"A une heure de relevée, concert d'harmonie militaire, dans le kiosque du Parc.\")"
   ]
  },
  {
   "cell_type": "code",
   "execution_count": 14,
   "metadata": {},
   "outputs": [
    {
     "name": "stdout",
     "output_type": "stream",
     "text": [
      "This text is 14% positive and 0.13333333333333333% subjective.\n"
     ]
    }
   ],
   "source": [
    "get_sentiment(\"A quatre heures, un grand concours de t i r à l'arc au berceau pour toutes les sociétés et tous les amateui's du Royaume et do l'étranger, sera ouvert i)ar la Société du Vautour, dans son local, à l'estaminet la Chaîne tVOr, rue des Six-Jetons.\")"
   ]
  },
  {
   "cell_type": "code",
   "execution_count": 13,
   "metadata": {},
   "outputs": [
    {
     "name": "stdout",
     "output_type": "stream",
     "text": [
      "This text is 6% negative and 0.05% subjective.\n"
     ]
    }
   ],
   "source": [
    "get_sentiment(\"Le lundi 15, aune heure de relevée, concert d'harmonie militaire dans le kiosque du Parc.\")"
   ]
  },
  {
   "cell_type": "code",
   "execution_count": 12,
   "metadata": {},
   "outputs": [
    {
     "name": "stdout",
     "output_type": "stream",
     "text": [
      "This text is neutral and perfectly objective.\n"
     ]
    }
   ],
   "source": [
    "get_sentiment(\"Le mardi 16, à trois heures de relevée, au canal, bassiiMhi Commerce, auront lieu les jeux dits : du Beaupré et de la Toison.\")"
   ]
  },
  {
   "cell_type": "code",
   "execution_count": 11,
   "metadata": {},
   "outputs": [
    {
     "name": "stdout",
     "output_type": "stream",
     "text": [
      "This text is 10% positive and 0.13333333333333333% subjective.\n"
     ]
    }
   ],
   "source": [
    "get_sentiment(\"Le dimanche 21, à neuf heures du soir, concert et illumination générale au Jardin royal de Zoologie et d'Horticulture, au quartier Léopold.\")"
   ]
  },
  {
   "cell_type": "code",
   "execution_count": 10,
   "metadata": {},
   "outputs": [
    {
     "name": "stdout",
     "output_type": "stream",
     "text": [
      "This text is 2% negative and 0.45% subjective.\n"
     ]
    }
   ],
   "source": [
    "get_sentiment(\"Un programme particulier donnera les détails de cette fête extraordinaire.\")"
   ]
  },
  {
   "cell_type": "code",
   "execution_count": 9,
   "metadata": {},
   "outputs": [
    {
     "name": "stdout",
     "output_type": "stream",
     "text": [
      "This text is 22% positive and 0.1% subjective.\n"
     ]
    }
   ],
   "source": [
    "get_sentiment(\"Le 20 de ce mois, à huit beures du soir, les cloches de toutes les églises annonceront la solennité du lendemain.\")"
   ]
  },
  {
   "cell_type": "code",
   "execution_count": 8,
   "metadata": {},
   "outputs": [
    {
     "name": "stdout",
     "output_type": "stream",
     "text": [
      "This text is 12% negative and 0.2% subjective.\n"
     ]
    }
   ],
   "source": [
    "get_sentiment(\"Le 21, à deux heures de relevée, le clergé catholique fera célébrer, en l'église collégiale des SS. Michel et Gudule, un Te Deum solennel.\")"
   ]
  },
  {
   "cell_type": "code",
   "execution_count": 7,
   "metadata": {},
   "outputs": [
    {
     "name": "stdout",
     "output_type": "stream",
     "text": [
      "This text is neutral and perfectly objective.\n"
     ]
    }
   ],
   "source": [
    "get_sentiment(\"Il leur est enjoint de se tenir près des voitures qu'ils accompagnent. Leur p r é s e n c e ne sera point tolérée vers l'entrée de l'église.\")"
   ]
  },
  {
   "cell_type": "code",
   "execution_count": null,
   "metadata": {},
   "outputs": [],
   "source": []
  }
 ],
 "metadata": {
  "kernelspec": {
   "display_name": "Python 3 (ipykernel)",
   "language": "python",
   "name": "python3"
  },
  "language_info": {
   "codemirror_mode": {
    "name": "ipython",
    "version": 3
   },
   "file_extension": ".py",
   "mimetype": "text/x-python",
   "name": "python",
   "nbconvert_exporter": "python",
   "pygments_lexer": "ipython3",
   "version": "3.9.7"
  }
 },
 "nbformat": 4,
 "nbformat_minor": 4
}
