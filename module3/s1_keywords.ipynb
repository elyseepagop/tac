{
 "cells": [
  {
   "cell_type": "markdown",
   "metadata": {},
   "source": [
    "# Extraction de Keywords"
   ]
  },
  {
   "cell_type": "markdown",
   "metadata": {},
   "source": [
    "## Imports"
   ]
  },
  {
   "cell_type": "code",
   "execution_count": 17,
   "metadata": {},
   "outputs": [],
   "source": [
    "import os\n",
    "import yake"
   ]
  },
  {
   "cell_type": "markdown",
   "metadata": {},
   "source": [
    "## Extraire les mots clés d'un document avec Yake"
   ]
  },
  {
   "cell_type": "markdown",
   "metadata": {},
   "source": [
    "https://github.com/LIAAD/yake"
   ]
  },
  {
   "cell_type": "code",
   "execution_count": 18,
   "metadata": {
    "tags": []
   },
   "outputs": [
    {
     "data": {
      "text/plain": [
       "{'conseil communal', 'conseil général'}"
      ]
     },
     "execution_count": 18,
     "metadata": {},
     "output_type": "execute_result"
    }
   ],
   "source": [
    "# Création d'une liste de mots à ignorer\n",
    "ignored = set([\"conseil communal\", \"conseil général\"])\n",
    "ignored"
   ]
  },
  {
   "cell_type": "code",
   "execution_count": 19,
   "metadata": {},
   "outputs": [
    {
     "data": {
      "text/plain": [
       "<yake.yake.KeywordExtractor at 0x7f2647e8b7f0>"
      ]
     },
     "execution_count": 19,
     "metadata": {},
     "output_type": "execute_result"
    }
   ],
   "source": [
    "# Instantier l'extracteur de mots clés\n",
    "kw_extractor = yake.KeywordExtractor(lan=\"fr\", top=50)\n",
    "kw_extractor"
   ]
  },
  {
   "cell_type": "code",
   "execution_count": 20,
   "metadata": {},
   "outputs": [],
   "source": [
    "# Lister les Fichiers\n",
    "data_path = \"../data/txt/\"\n",
    "files = os.listdir(data_path)"
   ]
  },
  {
   "cell_type": "code",
   "execution_count": 21,
   "metadata": {},
   "outputs": [
    {
     "data": {
      "text/plain": [
       "2213"
      ]
     },
     "execution_count": 21,
     "metadata": {},
     "output_type": "execute_result"
    }
   ],
   "source": [
    "# Imprimer le nombre de fichiers identifiés\n",
    "len(files)"
   ]
  },
  {
   "cell_type": "code",
   "execution_count": 22,
   "metadata": {},
   "outputs": [
    {
     "data": {
      "text/plain": [
       "['.ipynb_checkpoints',\n",
       " 'Bxl_1847_Tome_I1_Part_2.txt',\n",
       " 'Bxl_1847_Tome_I1_Part_3.txt',\n",
       " 'Bxl_1847_Tome_I1_Part_4.txt',\n",
       " 'Bxl_1847_Tome_I1_Part_5.txt',\n",
       " 'Bxl_1848_Tome_I1_Part_1.txt',\n",
       " 'Bxl_1848_Tome_I1_Part_2.txt',\n",
       " 'Bxl_1848_Tome_I1_Part_3.txt',\n",
       " 'Bxl_1849_Tome_I1_Part_1.txt',\n",
       " 'Bxl_1849_Tome_I1_Part_2.txt',\n",
       " 'Bxl_1849_Tome_I1_Part_3.txt',\n",
       " 'Bxl_1849_Tome_I1_Part_4.txt',\n",
       " 'Bxl_1849_Tome_I1_Part_5.txt',\n",
       " 'Bxl_1849_Tome_II1_Part_1.txt',\n",
       " 'Bxl_1849_Tome_II1_Part_2.txt',\n",
       " 'Bxl_1849_Tome_II1_Part_3.txt',\n",
       " 'Bxl_1849_Tome_II1_Part_4.txt',\n",
       " 'Bxl_1849_Tome_II1_Part_5.txt',\n",
       " 'Bxl_1849_Tome_II1_Part_6.txt',\n",
       " 'Bxl_1849_Tome_II1_Part_7.txt']"
      ]
     },
     "execution_count": 22,
     "metadata": {},
     "output_type": "execute_result"
    }
   ],
   "source": [
    "# Les dix premiers fichiers\n",
    "files[:20]"
   ]
  },
  {
   "cell_type": "code",
   "execution_count": 23,
   "metadata": {},
   "outputs": [
    {
     "data": {
      "text/plain": [
       "['Bxl_1861_Tome_II1_Part_1.txt',\n",
       " 'Bxl_1861_Tome_II1_Part_2.txt',\n",
       " 'Bxl_1861_Tome_II1_Part_3.txt',\n",
       " 'Bxl_1861_Tome_II1_Part_4.txt',\n",
       " 'Bxl_1861_Tome_II1_Part_5.txt']"
      ]
     },
     "execution_count": 23,
     "metadata": {},
     "output_type": "execute_result"
    }
   ],
   "source": [
    "# Enlever les fichiers qui ne commencent pas par Bxl_\n",
    "bxl_files = [f for f in files if f.startswith('Bxl_1861')]\n",
    "bxl_files"
   ]
  },
  {
   "cell_type": "code",
   "execution_count": 24,
   "metadata": {},
   "outputs": [
    {
     "data": {
      "text/plain": [
       "'Bxl_1861_Tome_II1_Part_1.txt'"
      ]
     },
     "execution_count": 24,
     "metadata": {},
     "output_type": "execute_result"
    }
   ],
   "source": [
    "# Choisir un fichier\n",
    "this_file = bxl_files[0]\n",
    "this_file"
   ]
  },
  {
   "cell_type": "code",
   "execution_count": 25,
   "metadata": {},
   "outputs": [
    {
     "data": {
      "text/plain": [
       "\"V I L L E DE B R U X E L L E S\\n\\nB U L L E T I N COMMUNAL.\\nAnnée\\n\\n1861.\\n\\nDEUXIEME SEMESTRE.\\n\\nBRUXELLES,\\n\\n\\x0c\\x0cVILLi:\\n\\nDE\\n\\nBRUXELLES.\\n\\nBULLETIN COMMUNAL\\nANJVÉË\\n\\ni86i.\\n\\nNLAILHO 18.\\nSAMEDI 6 JUILLET.\\n\\ni^rix d u\\n\\nPain.\\n\\nLe JJourgmeslrc de la ville de Bruxelles\\nTi ï I * t u\\n\\nI\\n\\n.\\n\\nI I *\\n\\n. . .\\n\\nInforme le public qu'il résulte des rapports des officiers de\\npolice (pie le |)uiii de ménage se vend à :\\n7)H cenl. par k i l . chez :\\n\\n35 cent, par kil. chez :\\nDelaet, rue Haute, G3.\\nAnlhonissen, r. Remp.-des-Moi\""
      ]
     },
     "execution_count": 25,
     "metadata": {},
     "output_type": "execute_result"
    }
   ],
   "source": [
    "# Récupérer le texte du fichier\n",
    "text = open(os.path.join(data_path, this_file), 'r').read()\n",
    "text[:500]"
   ]
  },
  {
   "cell_type": "code",
   "execution_count": 26,
   "metadata": {},
   "outputs": [],
   "source": [
    "# Extraire les mots clés de ce texte\n",
    "keywords = kw_extractor.extract_keywords(text)"
   ]
  },
  {
   "cell_type": "code",
   "execution_count": 27,
   "metadata": {},
   "outputs": [
    {
     "data": {
      "text/plain": [
       "[('rue', 0.0005747748675026017),\n",
       " ('Conseil', 0.0006796531942227096),\n",
       " ('CONSEIL COMMUNAL', 0.0009614693465730752),\n",
       " ('ville', 0.0010461936428589266),\n",
       " ('BRUXELLES', 0.001116502772043547),\n",
       " ('Bourgmestre', 0.0011543372245746528),\n",
       " (\"qu'il\", 0.0014648408620888485),\n",
       " ('Collège', 0.001582188536241815),\n",
       " ('section', 0.0017516685802397706),\n",
       " ('primes', 0.001799934916591649),\n",
       " ('conseil général', 0.0019150043165701526),\n",
       " ('Monsieur le Ministre', 0.00191523787377298),\n",
       " ('ville de Bruxelles', 0.0019355618572963957),\n",
       " ('ministre', 0.0022782733327571343),\n",
       " ('place', 0.0023716011203298868),\n",
       " ('francs', 0.002609041415947049),\n",
       " ('monument', 0.002953718873090853),\n",
       " (\"c'est\", 0.0029641608337396693),\n",
       " ('Société Civile', 0.0033826386541310916),\n",
       " ('concours', 0.0036956695344017186),\n",
       " ('faire', 0.0040110540539281155),\n",
       " (\"d'un\", 0.004725286271368172),\n",
       " ('Messieurs', 0.00487522747136018),\n",
       " ('artistes', 0.005347576966136439),\n",
       " ('rue de Schaerbeék', 0.005632520097399922),\n",
       " (\"place d'un bourgmestre\", 0.005729650240890975),\n",
       " (\"d'une\", 0.005774012764681099),\n",
       " ('loi', 0.005786545795649998),\n",
       " ('Vanderlinden', 0.00586952424770484),\n",
       " ('gouvernement', 0.005921143017188432),\n",
       " ('JUILLET', 0.006030715299379562),\n",
       " (\"n'est\", 0.006121675042640177),\n",
       " ('Rapport', 0.006252753716977539),\n",
       " (\"l'on\", 0.006389664909380831),\n",
       " (\"qu'ils\", 0.006445299793190933),\n",
       " (\"l'emprunt\", 0.006485409040630653),\n",
       " ('emprunts', 0.006697845378969706),\n",
       " ('COMMUNAL', 0.006854904997794084),\n",
       " ('Société', 0.006910244553569995),\n",
       " ('avons', 0.0071670943531850365),\n",
       " ('années', 0.0072370264434042),\n",
       " ('lieu', 0.00756838259876684),\n",
       " ('proposition', 0.007961682061548235),\n",
       " (\"public qu'il\", 0.007965777172368635),\n",
       " (\"l'Echevin Vanderlinden\", 0.008005802555709362),\n",
       " (\"l'Hôtel de Ville\", 0.008018677066843474),\n",
       " (\"conseil général d'administration\", 0.008183118272087947),\n",
       " ('emprunt', 0.008483937480028294),\n",
       " ('heures', 0.008989818536493326),\n",
       " ('FONTAINAS', 0.009094871899095143)]"
      ]
     },
     "execution_count": 27,
     "metadata": {},
     "output_type": "execute_result"
    }
   ],
   "source": [
    "keywords"
   ]
  },
  {
   "cell_type": "code",
   "execution_count": 28,
   "metadata": {},
   "outputs": [
    {
     "data": {
      "text/plain": [
       "['Société Civile', \"public qu'il\", \"l'Echevin Vanderlinden\"]"
      ]
     },
     "execution_count": 28,
     "metadata": {},
     "output_type": "execute_result"
    }
   ],
   "source": [
    "# Ne garder que les bigrammes\n",
    "kept = []\n",
    "for kw, score in keywords:\n",
    "    words = kw.split()\n",
    "    if len(words) == 2 and kw.lower() not in ignored:\n",
    "        kept.append(kw)\n",
    "kept"
   ]
  },
  {
   "cell_type": "markdown",
   "metadata": {},
   "source": [
    "## Faire la même opération sur tous les documents"
   ]
  },
  {
   "cell_type": "code",
   "execution_count": 29,
   "metadata": {},
   "outputs": [
    {
     "name": "stdout",
     "output_type": "stream",
     "text": [
      "Bxl_1861_Tome_II1_Part_1.txt mentions these keywords: Société Civile, public qu'il, l'Echevin Vanderlinden...\n",
      "Bxl_1861_Tome_II1_Part_2.txt mentions these keywords: rue Haute, enfants trouvés, grand nombre, conseil provincial, enfants pauvres, Compte moral...\n",
      "Bxl_1861_Tome_II1_Part_3.txt mentions these keywords: l'année dernière, travaux publics, grande voirie, voie publique, recettes ordinaires, d'une somme...\n",
      "Bxl_1861_Tome_II1_Part_4.txt mentions these keywords: rue Haute, travaux publics, l'Echevin Vanderlinden, rue Granvelle, rue d'Anderlecht, l'Echevin Watteeu, Conseil adopte...\n",
      "Bxl_1861_Tome_II1_Part_5.txt mentions these keywords: d'un rapport, l'administration communale, Avis favorable, droit d'écluse...\n"
     ]
    }
   ],
   "source": [
    "for f in sorted(bxl_files):\n",
    "    text = open(os.path.join(data_path, f), 'r').read()\n",
    "    keywords = kw_extractor.extract_keywords(text)\n",
    "    kept = []\n",
    "    for kw, score in keywords:\n",
    "        words = kw.split()\n",
    "        if len(words) == 2 and kw.lower() not in ignored:\n",
    "            kept.append(kw)\n",
    "    print(f\"{f} mentions these keywords: {', '.join(kept)}...\")"
   ]
  },
  {
   "cell_type": "code",
   "execution_count": null,
   "metadata": {},
   "outputs": [],
   "source": []
  }
 ],
 "metadata": {
  "kernelspec": {
   "display_name": "Python 3 (ipykernel)",
   "language": "python",
   "name": "python3"
  },
  "language_info": {
   "codemirror_mode": {
    "name": "ipython",
    "version": 3
   },
   "file_extension": ".py",
   "mimetype": "text/x-python",
   "name": "python",
   "nbconvert_exporter": "python",
   "pygments_lexer": "ipython3",
   "version": "3.9.7"
  }
 },
 "nbformat": 4,
 "nbformat_minor": 4
}
