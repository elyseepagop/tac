{
 "cells": [
  {
   "cell_type": "markdown",
   "id": "0930277e-70b0-4306-b3e4-493e7c81ac51",
   "metadata": {},
   "source": [
    "## notre requette recherche les personnes qui travaillent dans le ville de Bruxelle"
   ]
  },
  {
   "cell_type": "code",
   "execution_count": 1,
   "id": "0057588d-32e8-47a8-b1fe-9e14b0b44117",
   "metadata": {},
   "outputs": [],
   "source": [
    "from SPARQLWrapper import SPARQLWrapper, JSON"
   ]
  },
  {
   "cell_type": "code",
   "execution_count": 2,
   "id": "773bb134-7def-4f6b-8bf1-175b51e9b0ab",
   "metadata": {
    "jupyter": {
     "source_hidden": true
    },
    "tags": []
   },
   "outputs": [
    {
     "name": "stdout",
     "output_type": "stream",
     "text": [
      "\n",
      "5026 personnes qui travailles à Bruxelles\n",
      "\n",
      "[{'item': {'type': 'uri', 'value': 'http://www.wikidata.org/entity/Q450754'}, 'itemLabel': {'type': 'literal', 'value': 'Q450754'}}, {'item': {'type': 'uri', 'value': 'http://www.wikidata.org/entity/Q453871'}, 'itemLabel': {'type': 'literal', 'value': 'Q453871'}}, {'item': {'type': 'uri', 'value': 'http://www.wikidata.org/entity/Q454245'}, 'itemLabel': {'type': 'literal', 'value': 'Q454245'}}, {'item': {'type': 'uri', 'value': 'http://www.wikidata.org/entity/Q455264'}, 'itemLabel': {'type': 'literal', 'value': 'Q455264'}}, {'item': {'type': 'uri', 'value': 'http://www.wikidata.org/entity/Q456650'}, 'itemLabel': {'type': 'literal', 'value': 'Q456650'}}, {'item': {'type': 'uri', 'value': 'http://www.wikidata.org/entity/Q457129'}, 'itemLabel': {'type': 'literal', 'value': 'Q457129'}}, {'item': {'type': 'uri', 'value': 'http://www.wikidata.org/entity/Q458084'}, 'itemLabel': {'type': 'literal', 'value': 'Q458084'}}, {'item': {'type': 'uri', 'value': 'http://www.wikidata.org/entity/Q458095'}, 'itemLabel': {'type': 'literal', 'value': 'Q458095'}}, {'item': {'type': 'uri', 'value': 'http://www.wikidata.org/entity/Q458306'}, 'itemLabel': {'type': 'literal', 'value': 'Q458306'}}, {'item': {'type': 'uri', 'value': 'http://www.wikidata.org/entity/Q458709'}, 'itemLabel': {'type': 'literal', 'value': 'Q458709'}}]\n"
     ]
    }
   ],
   "source": [
    "# Retrieve results from SPARQL\n",
    "endpoint = \"https://query.wikidata.org/bigdata/namespace/wdq/sparql\"\n",
    "sparql = SPARQLWrapper(endpoint)\n",
    "\n",
    "# P937 = work location\n",
    "# P279 = subclass of\n",
    "# P279* means multiple iterations\n",
    "# Q239 = City of Brussels\n",
    "statement = \"\"\"\n",
    "SELECT DISTINCT ?item ?itemLabel WHERE {\n",
    "  SERVICE wikibase:label { bd:serviceParam wikibase:language \"[AUTO_LANGUAGE]\". }\n",
    "  {\n",
    "    SELECT DISTINCT ?item WHERE {\n",
    "      ?item p:P937 ?statement.\n",
    "      ?statement (ps:P937/(wdt:P279*)) wd:Q239.\n",
    "    }\n",
    "  }\n",
    "}\n",
    "\"\"\"\n",
    "sparql.setQuery(statement)\n",
    "sparql.setReturnFormat(JSON)\n",
    "results = sparql.query().convert()\n",
    "\n",
    "rows = results['results']['bindings']\n",
    "print(f\"\\n{len(rows)} personnes qui travailles à Bruxelles\\n\")\n",
    "print(rows[:10])\n"
   ]
  },
  {
   "cell_type": "code",
   "execution_count": null,
   "id": "f4887c9e",
   "metadata": {},
   "outputs": [],
   "source": []
  },
  {
   "cell_type": "markdown",
   "id": "8905aa43",
   "metadata": {},
   "source": []
  },
  {
   "cell_type": "code",
   "execution_count": null,
   "id": "cb28b2b3-025a-42a8-9028-1da61ca7b978",
   "metadata": {},
   "outputs": [],
   "source": []
  }
 ],
 "metadata": {
  "kernelspec": {
   "display_name": "Python 3 (ipykernel)",
   "language": "python",
   "name": "python3"
  },
  "language_info": {
   "codemirror_mode": {
    "name": "ipython",
    "version": 3
   },
   "file_extension": ".py",
   "mimetype": "text/x-python",
   "name": "python",
   "nbconvert_exporter": "python",
   "pygments_lexer": "ipython3",
   "version": "3.9.7"
  }
 },
 "nbformat": 4,
 "nbformat_minor": 5
}
