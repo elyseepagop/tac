{
 "cells": [
  {
   "cell_type": "markdown",
   "id": "bc6f8597-2fe6-4387-abdb-14e6622eb9ef",
   "metadata": {},
   "source": [
    "## 1. Choix de la décennie 1840-1849"
   ]
  },
  {
   "cell_type": "code",
   "execution_count": 4,
   "id": "8bf981fa-c4c2-4df9-8730-ed1f3720a2ee",
   "metadata": {},
   "outputs": [],
   "source": [
    "ANNEE = '1840'"
   ]
  },
  {
   "cell_type": "markdown",
   "id": "cb163c27-eea2-422e-829f-51c128731fe3",
   "metadata": {},
   "source": [
    "## 2. Clustering"
   ]
  },
  {
   "cell_type": "markdown",
   "id": "1bd2495e-f466-45e3-af04-9836f9c6caa5",
   "metadata": {},
   "source": [
    "### importations et téléchargements"
   ]
  },
  {
   "cell_type": "code",
   "execution_count": 2,
   "id": "81558ddc-d76a-4dfc-8255-d185dd9e75ed",
   "metadata": {},
   "outputs": [
    {
     "name": "stderr",
     "output_type": "stream",
     "text": [
      "[nltk_data] Downloading package punkt to /root/nltk_data...\n",
      "[nltk_data]   Package punkt is already up-to-date!\n",
      "[nltk_data] Downloading package stopwords to /root/nltk_data...\n",
      "[nltk_data]   Package stopwords is already up-to-date!\n"
     ]
    },
    {
     "data": {
      "text/plain": [
       "True"
      ]
     },
     "execution_count": 2,
     "metadata": {},
     "output_type": "execute_result"
    }
   ],
   "source": [
    "import collections\n",
    "import os\n",
    "import string\n",
    "import sys\n",
    "\n",
    "import pandas as pd\n",
    "from nltk import word_tokenize\n",
    "from nltk.corpus import stopwords\n",
    "from pprint import pprint\n",
    "from sklearn.cluster import KMeans\n",
    "from sklearn.feature_extraction.text import TfidfVectorizer\n",
    "from sklearn.decomposition import PCA\n",
    "import numpy as np\n",
    "import matplotlib.pyplot as plt\n",
    "from scipy.spatial.distance import cosine\n",
    "import nltk\n",
    "\n",
    "nltk.download('punkt')\n",
    "nltk.download('stopwords')"
   ]
  },
  {
   "cell_type": "markdown",
   "id": "99bdab44-ecf4-408d-a75f-cf26302acab6",
   "metadata": {},
   "source": [
    "### Definition du chemin vers les fichiers textes"
   ]
  },
  {
   "cell_type": "code",
   "execution_count": 5,
   "id": "891457f0-1eca-43a0-976c-b45f7ad2d6b7",
   "metadata": {},
   "outputs": [],
   "source": [
    "data_path = \"../data/txt/\""
   ]
  },
  {
   "cell_type": "markdown",
   "id": "1edb957b-06ec-439c-ae30-ccfc43bc5ca6",
   "metadata": {},
   "source": [
    "### Charger tous les  fichiers de la décennie et en créer une liste de textes"
   ]
  },
  {
   "cell_type": "code",
   "execution_count": 6,
   "id": "0afd7a99-233c-4eab-a287-fcbfd92b9e20",
   "metadata": {},
   "outputs": [],
   "source": [
    "files = [f for f in sorted(os.listdir(data_path)) if f\"_{ANNEE[:-1]}\" in f]"
   ]
  },
  {
   "cell_type": "markdown",
   "id": "d79f55f3-da2c-4018-8cd3-db36465c0051",
   "metadata": {},
   "source": [
    "### Charger les textes des fichiers de la décennie"
   ]
  },
  {
   "cell_type": "code",
   "execution_count": 7,
   "id": "ed3a41c5-7205-4414-933b-212199b8197c",
   "metadata": {},
   "outputs": [],
   "source": [
    "texts = [open(data_path + f).read() for f in files]"
   ]
  },
  {
   "cell_type": "markdown",
   "id": "7e79b0d4-57a5-44c5-a7d4-690dadac5eca",
   "metadata": {},
   "source": [
    "### Définition de la fonction de prétraitement"
   ]
  },
  {
   "cell_type": "code",
   "execution_count": 8,
   "id": "0c84a731-ed90-46f0-9bdc-4373730d6b37",
   "metadata": {},
   "outputs": [],
   "source": [
    "def preprocessing(text, stem=True):\n",
    "    \"\"\" Tokenize text and remove punctuation \"\"\"\n",
    "    text = text.translate(string.punctuation)\n",
    "    tokens = word_tokenize(text)\n",
    "    return tokens"
   ]
  },
  {
   "cell_type": "markdown",
   "id": "4b9076a5-8acc-4d23-8903-1a522396f850",
   "metadata": {},
   "source": [
    "### Les traitements"
   ]
  },
  {
   "cell_type": "code",
   "execution_count": 20,
   "id": "af4238a0-440f-42fc-8e7a-2d64f75b9a0a",
   "metadata": {},
   "outputs": [],
   "source": [
    "vectorizer = TfidfVectorizer(\n",
    "    tokenizer=preprocessing,\n",
    "    stop_words=stopwords.words('french'),\n",
    "    max_df=0.5,\n",
    "    min_df=0.1,\n",
    "    lowercase=True)"
   ]
  },
  {
   "cell_type": "code",
   "execution_count": 21,
   "id": "8ce60420-6a9f-405c-9705-1fe5b913c153",
   "metadata": {},
   "outputs": [
    {
     "name": "stdout",
     "output_type": "stream",
     "text": [
      "CPU times: user 17.6 s, sys: 0 ns, total: 17.6 s\n",
      "Wall time: 17.6 s\n"
     ]
    }
   ],
   "source": [
    "%time tfidf_vectors = vectorizer.fit_transform(texts)"
   ]
  },
  {
   "cell_type": "code",
   "execution_count": 22,
   "id": "5b1961b9-a931-4d57-9e8c-40a2edad98bf",
   "metadata": {},
   "outputs": [],
   "source": [
    "N_CLUSTERS = 3"
   ]
  },
  {
   "cell_type": "code",
   "execution_count": 23,
   "id": "2a5f149a-9988-43f5-8779-1c163bff4460",
   "metadata": {},
   "outputs": [],
   "source": [
    "km_model = KMeans(n_clusters=N_CLUSTERS)"
   ]
  },
  {
   "cell_type": "code",
   "execution_count": 24,
   "id": "08369299-ef67-4d0d-902f-a8b18ebd9acf",
   "metadata": {},
   "outputs": [],
   "source": [
    "clusters = km_model.fit_predict(tfidf_vectors)"
   ]
  },
  {
   "cell_type": "code",
   "execution_count": 25,
   "id": "05a58b9b-883e-4977-8591-bdf96b852e9b",
   "metadata": {},
   "outputs": [],
   "source": [
    "clustering = collections.defaultdict(list)\n",
    "\n",
    "for idx, label in enumerate(clusters):\n",
    "    clustering[label].append(files[idx])"
   ]
  },
  {
   "cell_type": "code",
   "execution_count": 26,
   "id": "90291ab8-f24a-4b6a-b4fc-43908f83b5b5",
   "metadata": {
    "tags": []
   },
   "outputs": [
    {
     "name": "stdout",
     "output_type": "stream",
     "text": [
      "{0: ['Bxl_1849_Tome_I1_Part_2.txt',\n",
      "     'Bxl_1849_Tome_I1_Part_5.txt',\n",
      "     'Bxl_1849_Tome_II1_Part_1.txt',\n",
      "     'Bxl_1849_Tome_II1_Part_5.txt',\n",
      "     'Bxl_1849_Tome_II1_Part_6.txt',\n",
      "     'Bxl_1849_Tome_II1_Part_7.txt'],\n",
      " 1: ['Bxl_1847_Tome_I1_Part_2.txt',\n",
      "     'Bxl_1847_Tome_I1_Part_3.txt',\n",
      "     'Bxl_1847_Tome_I1_Part_4.txt',\n",
      "     'Bxl_1847_Tome_I1_Part_5.txt',\n",
      "     'Bxl_1848_Tome_I1_Part_1.txt',\n",
      "     'Bxl_1848_Tome_I1_Part_2.txt',\n",
      "     'Bxl_1848_Tome_I1_Part_3.txt'],\n",
      " 2: ['Bxl_1849_Tome_I1_Part_1.txt',\n",
      "     'Bxl_1849_Tome_I1_Part_3.txt',\n",
      "     'Bxl_1849_Tome_I1_Part_4.txt',\n",
      "     'Bxl_1849_Tome_II1_Part_2.txt',\n",
      "     'Bxl_1849_Tome_II1_Part_3.txt',\n",
      "     'Bxl_1849_Tome_II1_Part_4.txt']}\n"
     ]
    }
   ],
   "source": [
    "pprint(dict(clustering))"
   ]
  },
  {
   "cell_type": "code",
   "execution_count": 27,
   "id": "9aa49d8c-ef45-4311-a1f7-0a6f39f2849b",
   "metadata": {},
   "outputs": [],
   "source": [
    "pca = PCA(n_components=2)\n",
    "reduced_vectors = pca.fit_transform(tfidf_vectors.toarray())"
   ]
  },
  {
   "cell_type": "code",
   "execution_count": 28,
   "id": "0b11202f-9cbc-44c3-b120-da4de112653e",
   "metadata": {},
   "outputs": [
    {
     "data": {
      "text/plain": [
       "<matplotlib.legend.Legend at 0x7f6a3e9fe250>"
      ]
     },
     "execution_count": 28,
     "metadata": {},
     "output_type": "execute_result"
    },
    {
     "data": {
      "image/png": "[encoded data removed]",
      "text/plain": [
       "<Figure size 720x720 with 1 Axes>"
      ]
     },
     "metadata": {
      "needs_background": "light"
     },
     "output_type": "display_data"
    }
   ],
   "source": [
    "x_axis = reduced_vectors[:, 0]\n",
    "y_axis = reduced_vectors[:, 1]\n",
    "\n",
    "plt.figure(figsize=(10,10))\n",
    "scatter = plt.scatter(x_axis, y_axis, s=100, c=clusters)\n",
    "\n",
    "# Ajouter les centroïdes\n",
    "centroids = pca.transform(km_model.cluster_centers_)\n",
    "plt.scatter(centroids[:, 0], centroids[:, 1],  marker = \"x\", s=100, linewidths = 2, color='black')\n",
    "\n",
    "# Ajouter la légende\n",
    "plt.legend(handles=scatter.legend_elements()[0], labels=set(clusters), title=\"Clusters\")"
   ]
  },
  {
   "cell_type": "markdown",
   "id": "d15359a7-f800-4557-b018-7b66547f454e",
   "metadata": {},
   "source": [
    "## 5. Entraitenement du modèle"
   ]
  },
  {
   "cell_type": "markdown",
   "id": "f0851f4c-33bc-4fe3-b887-e724da3673ec",
   "metadata": {},
   "source": [
    "### importations"
   ]
  },
  {
   "cell_type": "code",
   "execution_count": 29,
   "id": "ab6aa396-d10d-4cc8-82d1-767504bfca74",
   "metadata": {},
   "outputs": [],
   "source": [
    "import sys\n",
    "\n",
    "from gensim.models.phrases import Phrases, Phraser\n",
    "from gensim.models import Word2Vec\n",
    "\n",
    "import nltk\n",
    "from nltk.tokenize import wordpunct_tokenize\n",
    "from unidecode import unidecode"
   ]
  },
  {
   "cell_type": "markdown",
   "id": "44b283e7-957f-41df-a447-9c7e64caee92",
   "metadata": {},
   "source": [
    "### Chargement et traitement des phrases du corpus"
   ]
  },
  {
   "cell_type": "markdown",
   "id": "282beb64-4569-4c8d-bf94-ca2768382d87",
   "metadata": {},
   "source": [
    "### Création d'un objet qui *streame* les lignes d'un fichier pour économiser de la RAM"
   ]
  },
  {
   "cell_type": "code",
   "execution_count": 30,
   "id": "d3a0e0ad-492c-4604-9854-4eaa2013cadd",
   "metadata": {},
   "outputs": [],
   "source": [
    "class MySentences(object):\n",
    "    \"\"\"Tokenize and Lemmatize sentences\"\"\"\n",
    "    def __init__(self, filename):\n",
    "        self.filename = filename\n",
    "\n",
    "    def __iter__(self):\n",
    "        for line in open(self.filename, encoding='utf-8', errors=\"backslashreplace\"):\n",
    "            yield [unidecode(w.lower()) for w in wordpunct_tokenize(line)]"
   ]
  },
  {
   "cell_type": "code",
   "execution_count": 31,
   "id": "8cc70ae9-1499-421a-a9b3-f0e2df6c826e",
   "metadata": {},
   "outputs": [],
   "source": [
    "infile = f\"../data/sent.txt\"\n",
    "sentences = MySentences(infile)\n",
    "\n",
    "sentences = [sentence for sentence in sentences]"
   ]
  },
  {
   "cell_type": "markdown",
   "id": "1c18a1e0-9627-4a62-8ff6-3963ebb22c3e",
   "metadata": {},
   "source": [
    "### Détection des bigrams"
   ]
  },
  {
   "cell_type": "code",
   "execution_count": 32,
   "id": "1bdfae83-ec31-4c52-936f-aef0b9dd4586",
   "metadata": {},
   "outputs": [],
   "source": [
    "bigram_phrases = Phrases(sentences)"
   ]
  },
  {
   "cell_type": "markdown",
   "id": "a40d16f0-0adb-4297-9fa3-a119c2ce04c3",
   "metadata": {},
   "source": [
    "### Conversion des `Phrases` en objet `Phraser`"
   ]
  },
  {
   "cell_type": "code",
   "execution_count": 33,
   "id": "a70a4b71-f349-43a1-935c-bf1bf1fc878d",
   "metadata": {},
   "outputs": [],
   "source": [
    "bigram_phraser = Phraser(phrases_model=bigram_phrases)"
   ]
  },
  {
   "cell_type": "markdown",
   "id": "62d3cb4a-e23e-452b-979c-262202042f4b",
   "metadata": {},
   "source": [
    "### Extraction des trigrams"
   ]
  },
  {
   "cell_type": "code",
   "execution_count": 34,
   "id": "5b0224d9-8056-403f-a52b-c394572d524c",
   "metadata": {},
   "outputs": [],
   "source": [
    "trigram_phrases = Phrases(bigram_phraser[sentences])"
   ]
  },
  {
   "cell_type": "markdown",
   "id": "2522b6ad-88f2-46a5-a55b-6f06056ebb71",
   "metadata": {},
   "source": [
    "### Conversion des `Phrases` en objet `Phraser`"
   ]
  },
  {
   "cell_type": "code",
   "execution_count": 35,
   "id": "01eed50b-f111-4ce1-8429-f0cb85f954bf",
   "metadata": {},
   "outputs": [],
   "source": [
    "trigram_phraser = Phraser(phrases_model=trigram_phrases)"
   ]
  },
  {
   "cell_type": "markdown",
   "id": "cb7576bc-67b7-4474-803f-017b7bd066f6",
   "metadata": {},
   "source": [
    "### Création d'un corpus d'unigrams, bigrams, trigrams"
   ]
  },
  {
   "cell_type": "code",
   "execution_count": 36,
   "id": "901781dc-c1ce-486e-80f5-d75712d67138",
   "metadata": {},
   "outputs": [],
   "source": [
    "corpus = list(trigram_phraser[bigram_phraser[sentences]])"
   ]
  },
  {
   "cell_type": "markdown",
   "id": "2b91a582-f06d-4b77-9c51-ac4e23ac3c7b",
   "metadata": {},
   "source": [
    "### Entrainement d'un modèle Word2Vec sur ce corpus"
   ]
  },
  {
   "cell_type": "code",
   "execution_count": 37,
   "id": "0d87b44f-2b8c-4d2f-9341-306801dd4d8e",
   "metadata": {},
   "outputs": [
    {
     "name": "stdout",
     "output_type": "stream",
     "text": [
      "CPU times: user 1min 11s, sys: 2.7 s, total: 1min 14s\n",
      "Wall time: 32.8 s\n"
     ]
    }
   ],
   "source": [
    "%%time\n",
    "model = Word2Vec(\n",
    "    corpus, # On passe le corpus de ngrams que nous venons de créer\n",
    "    vector_size=32, # Le nombre de dimensions dans lesquelles le contexte des mots devra être réduit, aka. vector_size\n",
    "    window=5, # La taille du \"contexte\", ici 5 mots avant et après le mot observé\n",
    "    min_count=5, # On ignore les mots qui n'apparaissent pas au moins 5 fois dans le corpus\n",
    "    workers=4, # Permet de paralléliser l'entraînement du modèle en 4 threads\n",
    "    epochs=5 # Nombre d'itérations du réseau de neurones sur le jeu de données pour ajuster les paramètres avec la descende de gradient, aka. epochs.\n",
    ")"
   ]
  },
  {
   "cell_type": "code",
   "execution_count": 39,
   "id": "7d444205-9880-403f-82d1-9ce3d32d1b29",
   "metadata": {},
   "outputs": [],
   "source": [
    "outfile = f\"../data/bulletins.model\"\n",
    "model.save(outfile)"
   ]
  },
  {
   "cell_type": "code",
   "execution_count": 40,
   "id": "b62e9469-a937-4b3c-98d1-9ea4831e3572",
   "metadata": {},
   "outputs": [],
   "source": [
    "model = Word2Vec.load(\"../data/bulletins.model\")"
   ]
  },
  {
   "cell_type": "code",
   "execution_count": 41,
   "id": "b218d529-163b-46a0-848b-23278fa96d57",
   "metadata": {},
   "outputs": [
    {
     "data": {
      "text/plain": [
       "array([ 0.12951575, -0.52853256,  0.40600666, -0.17441586,  0.12594558,\n",
       "       -1.0690298 ,  0.3599124 ,  0.19440144, -0.5822103 ,  0.03346932,\n",
       "        0.19939691, -0.7782032 , -0.27837867,  0.64731246,  0.15356648,\n",
       "       -0.29590577,  0.02024636,  0.5308609 ,  0.16669884,  0.86198455,\n",
       "        0.6862544 ,  0.46660718,  0.1932657 ,  0.53665537,  0.10128158,\n",
       "       -0.07400858, -0.57398313,  0.04478179,  0.14165738,  0.09049387,\n",
       "       -0.6238903 ,  0.09004402], dtype=float32)"
      ]
     },
     "execution_count": 41,
     "metadata": {},
     "output_type": "execute_result"
    }
   ],
   "source": [
    "model.wv[\"blanchisserie\"]"
   ]
  },
  {
   "cell_type": "markdown",
   "id": "48098b99-65b3-4e32-b1d9-79e59860ceef",
   "metadata": {},
   "source": [
    "### Calculer la similarité entre deux termes"
   ]
  },
  {
   "cell_type": "code",
   "execution_count": 42,
   "id": "f1f2c1fe-23a4-42cd-a366-ef6732180f98",
   "metadata": {},
   "outputs": [
    {
     "data": {
      "text/plain": [
       "0.41742617"
      ]
     },
     "execution_count": 42,
     "metadata": {},
     "output_type": "execute_result"
    }
   ],
   "source": [
    "model.wv.similarity(\"architecte\", \"boulanger\")"
   ]
  },
  {
   "cell_type": "markdown",
   "id": "8eb1adcf-0e34-4698-8215-9d3fb14bd91b",
   "metadata": {},
   "source": [
    "### Chercher les mots les plus proches d'un terme donné"
   ]
  },
  {
   "cell_type": "code",
   "execution_count": 43,
   "id": "b0cb55f2-bff6-4a9f-ac21-1fa0e4053675",
   "metadata": {},
   "outputs": [
    {
     "data": {
      "text/plain": [
       "[('honorable_membre', 0.9097857475280762),\n",
       " ('honorable_conseiller', 0.8380672931671143),\n",
       " ('exemple', 0.8364467620849609),\n",
       " ('entrepreneur', 0.8100908398628235),\n",
       " ('avantage', 0.7904627919197083),\n",
       " ('essai', 0.7902554273605347),\n",
       " ('auteur', 0.7872560024261475),\n",
       " ('ajournement', 0.7793064117431641),\n",
       " ('engagement', 0.7757325172424316),\n",
       " ('experience', 0.7748648524284363)]"
      ]
     },
     "execution_count": 43,
     "metadata": {},
     "output_type": "execute_result"
    }
   ],
   "source": [
    "model.wv.most_similar(\"architecte\", topn=10)"
   ]
  },
  {
   "cell_type": "markdown",
   "id": "b7849171-1de1-4147-931f-0aaccd422420",
   "metadata": {},
   "source": [
    "### Faire des recherches complexes à travers l'espace vectoriel"
   ]
  },
  {
   "cell_type": "code",
   "execution_count": 44,
   "id": "49e510aa-a93a-45b9-94ac-4f8d46aaad0b",
   "metadata": {},
   "outputs": [
    {
     "name": "stdout",
     "output_type": "stream",
     "text": [
      "[('envoyer', 0.7572186589241028), ('approbation', 0.7475339770317078), ('aux_fins', 0.7473394870758057), ('autorite_superieure', 0.7447587251663208), ('nistration', 0.7378610968589783), ('conseil_general', 0.7343752980232239), ('secours_demande', 0.7311606407165527), ('attraire_en_justice', 0.7037755846977234), (\"'_autorite_competente\", 0.6863450407981873), ('accepter', 0.6681413650512695)]\n"
     ]
    }
   ],
   "source": [
    "print(model.wv.most_similar(positive=['administration', 'philanthropie'], negative=['belgique']))"
   ]
  },
  {
   "cell_type": "markdown",
   "id": "1ba7c29f-5370-48fc-8e46-1c589f4070d9",
   "metadata": {},
   "source": [
    "## 6. Exploration du modèle"
   ]
  },
  {
   "cell_type": "code",
   "execution_count": 45,
   "id": "6ee91d68-69c4-4618-aa44-3dc58ece5557",
   "metadata": {},
   "outputs": [
    {
     "data": {
      "text/plain": [
       "0.14125814"
      ]
     },
     "execution_count": 45,
     "metadata": {},
     "output_type": "execute_result"
    }
   ],
   "source": [
    "model.wv.similarity(\"construire\", \"administration\")"
   ]
  },
  {
   "cell_type": "code",
   "execution_count": 46,
   "id": "295df045-72ad-4789-9edf-80de27d18bbe",
   "metadata": {},
   "outputs": [
    {
     "data": {
      "text/plain": [
       "0.61988354"
      ]
     },
     "execution_count": 46,
     "metadata": {},
     "output_type": "execute_result"
    }
   ],
   "source": [
    "model.wv.similarity(\"gendarmerie\", \"caserne\")"
   ]
  },
  {
   "cell_type": "code",
   "execution_count": 47,
   "id": "41990d8a-4aba-4a15-9686-7b9d4f049113",
   "metadata": {},
   "outputs": [
    {
     "data": {
      "text/plain": [
       "0.5031336"
      ]
     },
     "execution_count": 47,
     "metadata": {},
     "output_type": "execute_result"
    }
   ],
   "source": [
    "model.wv.similarity(\"bruxellois\", \"waterloo\")"
   ]
  },
  {
   "cell_type": "code",
   "execution_count": 48,
   "id": "5e3ed3dd-1677-4769-b680-bf135398bc47",
   "metadata": {},
   "outputs": [
    {
     "data": {
      "text/plain": [
       "[('associes', 0.9202000498771667),\n",
       " ('souvenirs', 0.9061274528503418),\n",
       " ('habitues', 0.8997080326080322),\n",
       " ('quelques_personnes', 0.8926219344139099),\n",
       " ('fautes', 0.8900251984596252),\n",
       " ('deux_theatres', 0.8892890214920044),\n",
       " ('epreuves', 0.889273464679718),\n",
       " ('sifflets', 0.8888795971870422),\n",
       " ('approvisionnements', 0.888349175453186),\n",
       " ('deux_administrations', 0.8880735635757446)]"
      ]
     },
     "execution_count": 48,
     "metadata": {},
     "output_type": "execute_result"
    }
   ],
   "source": [
    "model.wv.most_similar(\"bruxellois\", topn=10)"
   ]
  },
  {
   "cell_type": "code",
   "execution_count": 49,
   "id": "ffdd4087-ffee-45f4-a8ae-f80b9e34021a",
   "metadata": {},
   "outputs": [
    {
     "data": {
      "text/plain": [
       "[('carrosserie', 0.9223438501358032),\n",
       " ('pneumonie', 0.9089800715446472),\n",
       " ('serrurerie', 0.9072736501693726),\n",
       " ('couronne', 0.9030741453170776),\n",
       " ('chaire', 0.8925639390945435),\n",
       " ('batterie', 0.8920012712478638),\n",
       " ('militaire', 0.8916779160499573),\n",
       " ('betterave', 0.8916401863098145),\n",
       " ('finisterrae', 0.890042781829834),\n",
       " ('hubert', 0.8897148370742798)]"
      ]
     },
     "execution_count": 49,
     "metadata": {},
     "output_type": "execute_result"
    }
   ],
   "source": [
    "model.wv.most_similar(\"gendarmerie\", topn=10)"
   ]
  },
  {
   "cell_type": "code",
   "execution_count": 50,
   "id": "1953de33-88d8-43e5-85f9-d8d0264555e1",
   "metadata": {},
   "outputs": [
    {
     "data": {
      "text/plain": [
       "[('autorite_superieure', 0.8538719415664673),\n",
       " ('autorite_communale', 0.8065093755722046),\n",
       " ('nistration', 0.7890928387641907),\n",
       " (\"'_administration_communale\", 0.7791832685470581),\n",
       " ('autorisation', 0.7701063752174377),\n",
       " ('inspection', 0.7585645914077759),\n",
       " ('entrepreneur', 0.7447304725646973),\n",
       " ('autorite', 0.7407077550888062),\n",
       " ('conseil_general', 0.7328884601593018),\n",
       " ('ministration', 0.7302660346031189)]"
      ]
     },
     "execution_count": 50,
     "metadata": {},
     "output_type": "execute_result"
    }
   ],
   "source": [
    "model.wv.most_similar(\"administration\", topn=10)"
   ]
  },
  {
   "cell_type": "code",
   "execution_count": null,
   "id": "b44eb3a2-4904-4585-a916-ea9aa72f4337",
   "metadata": {},
   "outputs": [],
   "source": []
  }
 ],
 "metadata": {
  "kernelspec": {
   "display_name": "Python 3 (ipykernel)",
   "language": "python",
   "name": "python3"
  },
  "language_info": {
   "codemirror_mode": {
    "name": "ipython",
    "version": 3
   },
   "file_extension": ".py",
   "mimetype": "text/x-python",
   "name": "python",
   "nbconvert_exporter": "python",
   "pygments_lexer": "ipython3",
   "version": "3.9.7"
  }
 },
 "nbformat": 4,
 "nbformat_minor": 5
}
